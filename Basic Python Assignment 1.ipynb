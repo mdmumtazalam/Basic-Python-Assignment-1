{
 "cells": [
  {
   "cell_type": "markdown",
   "id": "8876e929",
   "metadata": {},
   "source": [
    "1. In the below elements which of them are values or an expression? eg:- values can be integer or string and expressions will be mathematical operators.\n",
    "*   = expressions\n",
    "'hello' = VALUES\n",
    "-87.8   = VALUES\n",
    "-   = expressions\n",
    "/  = expressions\n",
    "+\t= expressions\n",
    "6   = VALUES\n",
    "\n",
    "2. What is the difference between string and variable?\n",
    "String   :-  Strings in python are surrounded by either single quotation marks, or double quotation marks.\n",
    "Variables: Variables are containers for storing data values.\n",
    "\n",
    "3. Describe three different data types.\n",
    "Integer ;for eg-7,8\n",
    "Float; eg- 3.8,4.5\n",
    "Boolean; eg- TRUE AND FALSE\n",
    "\n",
    "4. What is an expression made up of? What do all expressions do?\n",
    "An expression is a combination of values, variables, operators, and calls to functions. Expressions need to be evaluated. If you ask Python to print an expression, the interpreter evaluates the expression and displays the result.\n",
    "\n",
    "5. This assignment statements, like spam = 10. What is the difference between an expression and a statement?\n",
    "an “expression” is a combination of values and functions that are combined and interpreted by the compiler to create a new value, as opposed to a “statement” which is just a standalone unit of execution and doesn't return anything\n",
    "6. After running the following code, what does the variable bacon contain?\n",
    "bacon = 22\n",
    "bacon + 1\n",
    "\n",
    "BACON=22 BACON +1 \n",
    "The bacon variable is set to 20. The bacon + 1 expression does not reassign the value in bacon\n",
    "\n",
    "7. What should the values of the following two terms be?\n",
    "'spam' + 'spamspam'\n",
    "'spam' * 3\n",
    "ANS- 'spamspamspam'\n",
    "\n",
    "8. Why is eggs a valid variable name while 100 is invalid?\n",
    "ANS- Variable names cannot begin with a number.\n",
    "9. What three functions can be used to get the integer, floating-point number, or string version of a value?\n",
    "ANS- int(), float(), and str()\n",
    "10. Why does this expression cause an error? How can you fix it?\n",
    "'I have eaten ' + 99 + ' burritos.'\n",
    "I have eaten ' + str(99) + ' burritos.'.\n",
    "\n",
    "\n"
   ]
  },
  {
   "cell_type": "code",
   "execution_count": null,
   "id": "9c654b0c",
   "metadata": {},
   "outputs": [],
   "source": []
  }
 ],
 "metadata": {
  "kernelspec": {
   "display_name": "Python 3 (ipykernel)",
   "language": "python",
   "name": "python3"
  },
  "language_info": {
   "codemirror_mode": {
    "name": "ipython",
    "version": 3
   },
   "file_extension": ".py",
   "mimetype": "text/x-python",
   "name": "python",
   "nbconvert_exporter": "python",
   "pygments_lexer": "ipython3",
   "version": "3.9.12"
  }
 },
 "nbformat": 4,
 "nbformat_minor": 5
}
